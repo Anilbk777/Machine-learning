{
  "cells": [
    {
      "cell_type": "code",
      "execution_count": null,
      "metadata": {
        "id": "Ss-cQIY42Bws"
      },
      "outputs": [],
      "source": [
        "from sklearn.datasets import fetch_california_housing\n",
        "import numpy as np"
      ]
    },
    {
      "cell_type": "code",
      "execution_count": null,
      "metadata": {
        "id": "L82355oG2MVV"
      },
      "outputs": [],
      "source": [
        "X,y = fetch_california_housing(return_X_y=True)"
      ]
    },
    {
      "cell_type": "code",
      "execution_count": null,
      "metadata": {
        "colab": {
          "base_uri": "https://localhost:8080/"
        },
        "id": "zGYaqrzb2RGg",
        "outputId": "f70dd953-ddb0-48fa-de21-c303630a6ab5"
      },
      "outputs": [
        {
          "output_type": "execute_result",
          "data": {
            "text/plain": [
              "(20640, 8)"
            ]
          },
          "metadata": {},
          "execution_count": 3
        }
      ],
      "source": [
        "X.shape"
      ]
    },
    {
      "cell_type": "code",
      "execution_count": null,
      "metadata": {
        "colab": {
          "base_uri": "https://localhost:8080/"
        },
        "id": "4BaylTL92SUJ",
        "outputId": "a8bf7b4b-7e83-4a4a-bf29-b514b82f3209"
      },
      "outputs": [
        {
          "output_type": "execute_result",
          "data": {
            "text/plain": [
              "(20640,)"
            ]
          },
          "metadata": {},
          "execution_count": 4
        }
      ],
      "source": [
        "y.shape"
      ]
    },
    {
      "cell_type": "code",
      "execution_count": null,
      "metadata": {
        "colab": {
          "base_uri": "https://localhost:8080/"
        },
        "id": "rwgnJR1v2TVe",
        "outputId": "30927216-ff16-429f-c07b-b7ea30d20f2b"
      },
      "outputs": [
        {
          "output_type": "execute_result",
          "data": {
            "text/plain": [
              "array([[   8.3252    ,   41.        ,    6.98412698, ...,    2.55555556,\n",
              "          37.88      , -122.23      ],\n",
              "       [   8.3014    ,   21.        ,    6.23813708, ...,    2.10984183,\n",
              "          37.86      , -122.22      ],\n",
              "       [   7.2574    ,   52.        ,    8.28813559, ...,    2.80225989,\n",
              "          37.85      , -122.24      ],\n",
              "       ...,\n",
              "       [   1.7       ,   17.        ,    5.20554273, ...,    2.3256351 ,\n",
              "          39.43      , -121.22      ],\n",
              "       [   1.8672    ,   18.        ,    5.32951289, ...,    2.12320917,\n",
              "          39.43      , -121.32      ],\n",
              "       [   2.3886    ,   16.        ,    5.25471698, ...,    2.61698113,\n",
              "          39.37      , -121.24      ]])"
            ]
          },
          "metadata": {},
          "execution_count": 5
        }
      ],
      "source": [
        "X"
      ]
    },
    {
      "cell_type": "code",
      "execution_count": null,
      "metadata": {
        "id": "ZDsCOabzEws5"
      },
      "outputs": [],
      "source": [
        "from sklearn.linear_model import LinearRegression\n",
        "from sklearn.tree import DecisionTreeRegressor\n",
        "from sklearn.model_selection import cross_val_score\n",
        "\n"
      ]
    },
    {
      "cell_type": "code",
      "execution_count": null,
      "metadata": {
        "id": "gnftFxxS2mHq"
      },
      "outputs": [],
      "source": [
        "lr = LinearRegression()\n",
        "dt = DecisionTreeRegressor()"
      ]
    },
    {
      "cell_type": "code",
      "execution_count": null,
      "metadata": {
        "id": "8OzpSAXh2s_y"
      },
      "outputs": [],
      "source": [
        "estimators = [('lr',lr),('dt',dt)]"
      ]
    },
    {
      "cell_type": "code",
      "execution_count": null,
      "metadata": {
        "colab": {
          "base_uri": "https://localhost:8080/"
        },
        "id": "4g8F5nQE20B2",
        "outputId": "921bcca4-f9ff-4163-880b-c9c4f9ea6789"
      },
      "outputs": [
        {
          "output_type": "stream",
          "name": "stdout",
          "text": [
            "lr 0.51\n",
            "dt 0.25\n"
          ]
        }
      ],
      "source": [
        "for estimator in estimators:\n",
        "  scores = cross_val_score(estimator[1],X,y,scoring='r2',cv=10)\n",
        "  print(estimator[0],np.round(np.mean(scores),2))"
      ]
    },
    {
      "cell_type": "code",
      "execution_count": null,
      "metadata": {
        "id": "2ADqXH8s3JHe"
      },
      "outputs": [],
      "source": [
        "from sklearn.ensemble import VotingRegressor"
      ]
    },
    {
      "cell_type": "code",
      "execution_count": null,
      "metadata": {
        "colab": {
          "base_uri": "https://localhost:8080/"
        },
        "id": "45lcgrE83eDK",
        "outputId": "48622584-499a-475c-a4bc-a86a06d4f719"
      },
      "outputs": [
        {
          "output_type": "stream",
          "name": "stdout",
          "text": [
            "Voting Regressor 0.54\n"
          ]
        }
      ],
      "source": [
        "vr = VotingRegressor(estimators)\n",
        "scores = cross_val_score(vr,X,y,scoring='r2',cv=10)\n",
        "print(\"Voting Regressor\",np.round(np.mean(scores),2))"
      ]
    },
    {
      "cell_type": "code",
      "execution_count": null,
      "metadata": {
        "colab": {
          "base_uri": "https://localhost:8080/"
        },
        "id": "uKeZQxsY3qG1",
        "outputId": "9e833a21-2673-427f-b8ad-8531a8fbbf7b"
      },
      "outputs": [
        {
          "output_type": "stream",
          "name": "stdout",
          "text": [
            "For i=1,j=1 0.54\n",
            "For i=1,j=2 0.48\n",
            "For i=1,j=3 0.43\n",
            "For i=2,j=1 0.56\n",
            "For i=2,j=2 0.54\n",
            "For i=2,j=3 0.51\n",
            "For i=3,j=1 0.56\n",
            "For i=3,j=2 0.55\n",
            "For i=3,j=3 0.54\n"
          ]
        }
      ],
      "source": [
        "for i in range(1,4):\n",
        "  for j in range(1,4):\n",
        "\n",
        "      vr = VotingRegressor(estimators,weights = [i,j])\n",
        "      scores = cross_val_score(vr,X,y,scoring='r2',cv=10)\n",
        "      print(\"For i={},j={}\".format(i,j),np.round(np.mean(scores),2))\n"
      ]
    },
    {
      "cell_type": "markdown",
      "metadata": {
        "id": "vGk23YUrEwtE"
      },
      "source": [
        "# using the same algorithm"
      ]
    },
    {
      "cell_type": "code",
      "execution_count": null,
      "metadata": {
        "id": "xln9JLUh4bMA"
      },
      "outputs": [],
      "source": [
        "\n",
        "dt1 = DecisionTreeRegressor(max_depth=1)\n",
        "dt2 = DecisionTreeRegressor(max_depth=3)\n",
        "dt3 = DecisionTreeRegressor(max_depth=5)\n",
        "dt4 = DecisionTreeRegressor(max_depth=7)\n",
        "dt5 = DecisionTreeRegressor(max_depth=None)"
      ]
    },
    {
      "cell_type": "code",
      "execution_count": null,
      "metadata": {
        "id": "TMNFLtcZ45ZR"
      },
      "outputs": [],
      "source": [
        "estimators = [('dt1',dt1),('dt2',dt2),('dt3',dt3),('dt4',dt4),('dt5',dt5)]"
      ]
    },
    {
      "cell_type": "code",
      "execution_count": null,
      "metadata": {
        "colab": {
          "base_uri": "https://localhost:8080/"
        },
        "id": "OoNnadMV5PKk",
        "outputId": "aeb7f2ca-ed84-4298-b0cf-6b53cfe0859f"
      },
      "outputs": [
        {
          "output_type": "stream",
          "name": "stdout",
          "text": [
            "dt1 0.13\n",
            "dt2 0.36\n",
            "dt3 0.43\n",
            "dt4 0.47\n",
            "dt5 0.22\n"
          ]
        }
      ],
      "source": [
        "for estimator in estimators:\n",
        "  scores = cross_val_score(estimator[1],X,y,scoring='r2',cv=10)\n",
        "  print(estimator[0],np.round(np.mean(scores),2))"
      ]
    },
    {
      "cell_type": "code",
      "execution_count": null,
      "metadata": {
        "colab": {
          "base_uri": "https://localhost:8080/"
        },
        "id": "dxFmVW2A5EDR",
        "outputId": "923d174b-8e4a-494c-e872-605f4f480984"
      },
      "outputs": [
        {
          "output_type": "stream",
          "name": "stdout",
          "text": [
            "Voting Regressor 0.5\n"
          ]
        }
      ],
      "source": [
        "vr = VotingRegressor(estimators)\n",
        "scores = cross_val_score(vr,X,y,scoring='r2',cv=10)\n",
        "print(\"Voting Regressor\",np.round(np.mean(scores),2))"
      ]
    },
    {
      "cell_type": "code",
      "execution_count": null,
      "metadata": {
        "id": "xCNX58b95KfF"
      },
      "outputs": [],
      "source": []
    },
    {
      "cell_type": "code",
      "source": [],
      "metadata": {
        "id": "4DoRalBPMAxF"
      },
      "execution_count": null,
      "outputs": []
    }
  ],
  "metadata": {
    "colab": {
      "provenance": []
    },
    "kernelspec": {
      "display_name": "Python 3 (ipykernel)",
      "language": "python",
      "name": "python3"
    },
    "language_info": {
      "codemirror_mode": {
        "name": "ipython",
        "version": 3
      },
      "file_extension": ".py",
      "mimetype": "text/x-python",
      "name": "python",
      "nbconvert_exporter": "python",
      "pygments_lexer": "ipython3",
      "version": "3.12.3"
    }
  },
  "nbformat": 4,
  "nbformat_minor": 0
}